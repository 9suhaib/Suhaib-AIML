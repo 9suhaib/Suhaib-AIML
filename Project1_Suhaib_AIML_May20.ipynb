{
 "cells": [
  {
   "cell_type": "code",
   "execution_count": null,
   "metadata": {},
   "outputs": [],
   "source": [
    "#Question 1 importing required packages\n",
    "\n",
    "import numpy as np  \n",
    "import pandas as pd\n",
    "import seaborn as sns\n",
    "import matplotlib.pyplot as plt\n",
    "import warnings\n",
    "warnings.filterwarnings('ignore')\n",
    "sns.set(color_codes=True) \n",
    "%matplotlib inline "
   ]
  },
  {
   "cell_type": "code",
   "execution_count": null,
   "metadata": {},
   "outputs": [],
   "source": [
    "#Question 2 reading the data files\n",
    "\n",
    "Data_data = pd.read_csv('Data.csv') \n",
    "Data_item = pd.read_csv('item.csv')\n",
    "Data_user = pd.read_csv('user.csv')"
   ]
  },
  {
   "cell_type": "code",
   "execution_count": null,
   "metadata": {},
   "outputs": [],
   "source": [
    "#Question 3 applying head on Data.csv\n",
    "\n",
    "Data_data.head() "
   ]
  },
  {
   "cell_type": "code",
   "execution_count": null,
   "metadata": {},
   "outputs": [],
   "source": [
    "#Question 3 applying head on item.csv\n",
    "\n",
    "Data_item.head()"
   ]
  },
  {
   "cell_type": "code",
   "execution_count": null,
   "metadata": {},
   "outputs": [],
   "source": [
    "#Question 3 applying head on user.csv\n",
    "\n",
    "Data_user.head()"
   ]
  },
  {
   "cell_type": "code",
   "execution_count": null,
   "metadata": {},
   "outputs": [],
   "source": [
    "#Question 3 applying shape on all data files and then printing the result\n",
    "\n",
    "shape_data= Data_data.shape \n",
    "shape_item= Data_item.shape\n",
    "shape_user= Data_user.shape\n",
    "\n",
    "print (shape_data)\n",
    "print (shape_item)\n",
    "print (shape_user)"
   ]
  },
  {
   "cell_type": "code",
   "execution_count": null,
   "metadata": {},
   "outputs": [],
   "source": [
    "#Question 3 applying describe on Data.csv\n",
    "\n",
    "Data_data.describe()"
   ]
  },
  {
   "cell_type": "code",
   "execution_count": null,
   "metadata": {},
   "outputs": [],
   "source": [
    "#Question 3 applying describe on item.csv\n",
    "\n",
    "Data_item.describe()"
   ]
  },
  {
   "cell_type": "code",
   "execution_count": null,
   "metadata": {},
   "outputs": [],
   "source": [
    "#Question 3 applying describe on user.csv\n",
    "\n",
    "Data_user.describe()"
   ]
  },
  {
   "cell_type": "code",
   "execution_count": null,
   "metadata": {},
   "outputs": [],
   "source": [
    "#Question 3 applying info on Data.csv\n",
    "\n",
    "Data_data.info()"
   ]
  },
  {
   "cell_type": "code",
   "execution_count": null,
   "metadata": {},
   "outputs": [],
   "source": [
    "#Question 3 applying info on item.csv\n",
    "\n",
    "Data_item.info()"
   ]
  },
  {
   "cell_type": "code",
   "execution_count": null,
   "metadata": {},
   "outputs": [],
   "source": [
    "#Question 3 applying info on user.csv\n",
    "\n",
    "Data_user.info()"
   ]
  },
  {
   "cell_type": "code",
   "execution_count": null,
   "metadata": {},
   "outputs": [],
   "source": [
    "#Question 3 applying isnull().sum() on Data.csv to return number of missing values\n",
    "\n",
    "Data_data.isnull().sum()"
   ]
  },
  {
   "cell_type": "code",
   "execution_count": null,
   "metadata": {},
   "outputs": [],
   "source": [
    "#Question 3 applying isnull().sum() on item.csv to return number of missing values\n",
    "\n",
    "Data_item.isnull().sum()"
   ]
  },
  {
   "cell_type": "code",
   "execution_count": null,
   "metadata": {},
   "outputs": [],
   "source": [
    "#Question 3 applying isnull().sum() on Data.csv to return number of missing values\n",
    "\n",
    "Data_user.isnull().sum()"
   ]
  },
  {
   "cell_type": "code",
   "execution_count": null,
   "metadata": {},
   "outputs": [],
   "source": [
    "#Question 3\n",
    "#Data_data.isnull().sum().sum() will return Total number of missing values in the whole dataframe data\n",
    "#Data_item.isnull().sum().sum() will return Total number of missing values in the whole dataframe item\n",
    "#Data_user.isnull().sum().sum() will return Total number of missing values in the whole dataframe user"
   ]
  },
  {
   "cell_type": "code",
   "execution_count": null,
   "metadata": {},
   "outputs": [],
   "source": [
    "#Question 4\n",
    "\n",
    "Data_item1= Data_item.drop(['movie id','movie title','release date'], axis=1) #drop columns with non integer values\n",
    "Data_item1.sum(axis=0) #return the number of movies per genre"
   ]
  },
  {
   "cell_type": "code",
   "execution_count": null,
   "metadata": {},
   "outputs": [],
   "source": [
    "#Question 5\n",
    "\n",
    "Data_item2= Data_item.drop(['movie id','release date'], axis=1) #drop columns \n",
    "Data_item2['GenreSum']= Data_item2.sum(axis=1) #create new column 'GenreSum' with summation of number of genre per movie\n",
    "Data_item3 = Data_item2.drop(['unknown','Action','Adventure','Animation','Childrens','Comedy','Crime','Documentary','Drama','Fantasy','Drama','Film-Noir','Horror','Musical','Mystery','Romance','Sci-Fi','Thriller','War','Western'], axis=1)\n",
    "Data_item4 = Data_item3.loc[(Data_item2['GenreSum'] > 1)] #return rows of movie titles with more than 1 genre classification\n",
    "print(Data_item4)"
   ]
  },
  {
   "cell_type": "code",
   "execution_count": null,
   "metadata": {},
   "outputs": [],
   "source": []
  },
  {
   "cell_type": "code",
   "execution_count": null,
   "metadata": {},
   "outputs": [],
   "source": [
    "#Question 6\n",
    "\n",
    "#Movie_Unknown= Data_item.loc[Data_item1['unknown'] ==1] To view row containing movie with unknown genre, unknown=1\n",
    "#print (Movie_Unknown)\n",
    "Data_item5= Data_item1[Data_item1.unknown !=1] #drop the row that contains 1 in the column 'unknown' because we have only one unknown movie as per answer of Question 4\n",
    "Data_item5.sum(axis=0) #Total movies per genre after removing the unknown movie entry, unknown=0"
   ]
  },
  {
   "cell_type": "code",
   "execution_count": null,
   "metadata": {},
   "outputs": [],
   "source": []
  },
  {
   "cell_type": "code",
   "execution_count": null,
   "metadata": {},
   "outputs": [],
   "source": [
    "#Question 7 distribution plot for 'age'\n",
    "\n",
    "sns.distplot(Data_user['age']); "
   ]
  },
  {
   "cell_type": "code",
   "execution_count": null,
   "metadata": {},
   "outputs": [],
   "source": [
    "#Question 7 count plot for 'gender'\n",
    "\n",
    "sns.countplot(Data_user['gender']);"
   ]
  },
  {
   "cell_type": "code",
   "execution_count": null,
   "metadata": {},
   "outputs": [],
   "source": [
    "#Question 7 count plot for 'occupation'\n",
    "\n",
    "plt.figure(figsize=(30,8)) #modification of figure size for a better view of the plot\n",
    "sns.countplot(Data_user['occupation']);"
   ]
  },
  {
   "cell_type": "code",
   "execution_count": null,
   "metadata": {},
   "outputs": [],
   "source": [
    "#Question 7 count plot for 'rating'\n",
    "\n",
    "sns.countplot(Data_data['rating']);"
   ]
  },
  {
   "cell_type": "code",
   "execution_count": null,
   "metadata": {},
   "outputs": [],
   "source": []
  },
  {
   "cell_type": "code",
   "execution_count": null,
   "metadata": {},
   "outputs": [],
   "source": [
    "#Question 7\n",
    "\n",
    "Data_item6 = Data_item[\"release date\"].str.split(\"-\", n=2 ,expand=True) #new dataframe by spliting the release date\n",
    "Data_item['Year']=Data_item6[2] #adding the third column from Data_item6 to Data_item with title 'Year'\n",
    "sns.distplot(Data_item['Year'], kde=False); #distribution plot for 'Year'"
   ]
  },
  {
   "cell_type": "code",
   "execution_count": null,
   "metadata": {},
   "outputs": [],
   "source": [
    "#Question 8 creating a datafrome with year as index and genre as columns\n",
    "\n",
    "Data_item7= Data_item.drop(['movie id','movie title','release date'], axis=1)\n",
    "YearGroup= Data_item7.groupby(['Year']).sum()\n",
    "YearGroup1= YearGroup.sort_index(axis=0, ascending=False)\n",
    "YearGroup1.head()"
   ]
  },
  {
   "cell_type": "code",
   "execution_count": null,
   "metadata": {},
   "outputs": [],
   "source": [
    "#Question 8\n",
    "\n",
    "plt.figure(figsize=(16,20)) #modification of figure size\n",
    "sns.heatmap(YearGroup1, annot=True, cmap=\"Blues\") #heatmap"
   ]
  },
  {
   "cell_type": "code",
   "execution_count": null,
   "metadata": {},
   "outputs": [],
   "source": [
    "#Question 9\n",
    "#preparing Data_data for merge by dropping unnecessary columns\n",
    "\n",
    "Data_data1= Data_data.drop(['timestamp','user id'], axis=1)\n",
    "Data_data1.head()"
   ]
  },
  {
   "cell_type": "code",
   "execution_count": null,
   "metadata": {},
   "outputs": [],
   "source": [
    "#preparing Data_item for merge by dropping unnecessary columns\n",
    "\n",
    "Data_item8= Data_item.drop(['Year','release date','unknown','Action','Adventure','Animation','Childrens','Comedy','Crime','Documentary','Drama','Fantasy','Drama','Film-Noir','Horror','Musical','Mystery','Romance','Sci-Fi','Thriller','War','Western'], axis=1)\n",
    "Data_item8.head()"
   ]
  },
  {
   "cell_type": "code",
   "execution_count": null,
   "metadata": {},
   "outputs": [],
   "source": [
    "#merging dataframes and then dropping columns not required\n",
    "\n",
    "itemdata= pd.merge(Data_item8, Data_data1, on='movie id')\n",
    "itemdata1= itemdata.drop(['movie id'], axis=1)\n",
    "itemdata1.head()"
   ]
  },
  {
   "cell_type": "code",
   "execution_count": null,
   "metadata": {},
   "outputs": [],
   "source": [
    "#applying groupby on 'movie title' and combining count\n",
    "\n",
    "itemdata2= itemdata1.groupby(['movie title']).count() #\n",
    "itemdata2ri= itemdata2.reset_index() #reset index\n",
    "itemdata2ri #return number of rating per movie"
   ]
  },
  {
   "cell_type": "code",
   "execution_count": null,
   "metadata": {},
   "outputs": [],
   "source": [
    "itemdata3= itemdata2.loc[itemdata2['rating'] >100] #return movies with rating above 100\n",
    "itemdata3ri= itemdata3.reset_index()"
   ]
  },
  {
   "cell_type": "code",
   "execution_count": null,
   "metadata": {},
   "outputs": [],
   "source": [
    "Movie_Title= itemdata3ri['movie title'].to_list() #Movie_Title contains the list of movies with above 100 ratings\n",
    "print ('Movie Title List: ', Movie_Title)"
   ]
  },
  {
   "cell_type": "code",
   "execution_count": null,
   "metadata": {},
   "outputs": [],
   "source": [
    "itemdata4= itemdata1.groupby(['movie title']).mean() #groupby 'movie title' and apply mean, returns mean rating per movie\n",
    "itemdata4ri= itemdata4.reset_index()\n",
    "itemdata5 = itemdata4ri.sort_values(by=['rating'], ascending=False) #returns the mean rating with descending order\n",
    "print (itemdata5)"
   ]
  },
  {
   "cell_type": "code",
   "execution_count": null,
   "metadata": {},
   "outputs": [],
   "source": [
    "Top25= itemdata5.iloc[0:24] #returns top 25 movies by mean rating\n",
    "print (Top25)"
   ]
  },
  {
   "cell_type": "code",
   "execution_count": null,
   "metadata": {},
   "outputs": [],
   "source": [
    "#Question 10\n",
    "#preparing dataframes for merge\n",
    "\n",
    "Newdata= Data_data.drop(['timestamp'], axis=1)\n",
    "Newitem= Data_item.drop(['movie title','Year','release date','unknown','Action','Adventure','Animation','Childrens','Comedy','Crime','Documentary','Fantasy','Film-Noir','Horror','Musical','Mystery','Thriller','War','Western'], axis=1)\n",
    "Newuser= Data_user.drop(['age','occupation','zip code'], axis=1)\n"
   ]
  },
  {
   "cell_type": "code",
   "execution_count": null,
   "metadata": {},
   "outputs": [],
   "source": [
    "#First merge\n",
    "\n",
    "itemdatam= pd.merge(Newdata, Newitem, on='movie id')\n",
    "print (itemdatam)"
   ]
  },
  {
   "cell_type": "code",
   "execution_count": null,
   "metadata": {},
   "outputs": [],
   "source": [
    "#second merge\n",
    "\n",
    "Gender= pd.merge(Newuser, itemdatam, on='user id')\n",
    "print (Gender)"
   ]
  },
  {
   "cell_type": "code",
   "execution_count": null,
   "metadata": {},
   "outputs": [],
   "source": []
  },
  {
   "cell_type": "code",
   "execution_count": null,
   "metadata": {},
   "outputs": [],
   "source": []
  },
  {
   "cell_type": "code",
   "execution_count": null,
   "metadata": {},
   "outputs": [],
   "source": []
  },
  {
   "cell_type": "code",
   "execution_count": null,
   "metadata": {},
   "outputs": [],
   "source": [
    "#here we can get the sum of movies per genre per gender (number of ratings per genre)\n",
    "\n",
    "Gender1= Gender.groupby(['gender']).sum()\n",
    "Gender1ri= Gender1.reset_index()\n",
    "Gender1ri"
   ]
  },
  {
   "cell_type": "code",
   "execution_count": null,
   "metadata": {},
   "outputs": [],
   "source": [
    "#Total number of ratings by all users per gender\n",
    "\n",
    "Gender2= Gender.groupby(['gender']).count()\n",
    "Gender2ri= Gender2.reset_index()\n",
    "Gender2ri"
   ]
  },
  {
   "cell_type": "code",
   "execution_count": null,
   "metadata": {},
   "outputs": [],
   "source": [
    "M_drama= (28887/74253)*100 #percentage of men watching drama\n",
    "F_drama= (11008/25738)*100 #percentage of women watching drama\n",
    "\n",
    "print (M_drama)\n",
    "print (F_drama)"
   ]
  },
  {
   "cell_type": "code",
   "execution_count": null,
   "metadata": {},
   "outputs": [],
   "source": [
    "M_Rom= (13603/74253)*100 #percentage of men watching romance\n",
    "F_Rom= (5858/25738)*100  #percentage of women watching romance\n",
    "\n",
    "print (M_Rom)\n",
    "print (F_Rom)"
   ]
  },
  {
   "cell_type": "code",
   "execution_count": null,
   "metadata": {},
   "outputs": [],
   "source": [
    "M_SF= (10101/74253)*100 #percentage of men watching SciFi\n",
    "F_SF= (2629/25738)*100  #percentage of women watching SciFi\n",
    "\n",
    "print (M_SF)\n",
    "print (F_SF)"
   ]
  },
  {
   "cell_type": "code",
   "execution_count": null,
   "metadata": {},
   "outputs": [],
   "source": [
    "# Statement 1: False\n",
    "# Statement 2: False\n",
    "# Statement 3: False"
   ]
  },
  {
   "cell_type": "code",
   "execution_count": null,
   "metadata": {},
   "outputs": [],
   "source": []
  }
 ],
 "metadata": {
  "kernelspec": {
   "display_name": "Python 3",
   "language": "python",
   "name": "python3"
  },
  "language_info": {
   "codemirror_mode": {
    "name": "ipython",
    "version": 3
   },
   "file_extension": ".py",
   "mimetype": "text/x-python",
   "name": "python",
   "nbconvert_exporter": "python",
   "pygments_lexer": "ipython3",
   "version": "3.7.6"
  }
 },
 "nbformat": 4,
 "nbformat_minor": 4
}
