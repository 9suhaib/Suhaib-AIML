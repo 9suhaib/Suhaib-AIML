{
 "cells": [
  {
   "cell_type": "markdown",
   "metadata": {},
   "source": [
    "### Project - MovieLens Data Analysis\n",
    "\n",
    "The GroupLens Research Project is a research group in the Department of Computer Science and Engineering at the University of Minnesota. The data is widely used for collaborative filtering and other filtering solutions. However, we will be using this data to act as a means to demonstrate our skill in using Python to “play” with data.\n",
    "\n",
    "#### Domain \n",
    "Internet and Entertainment\n",
    "\n",
    "**Note that the project will need you to apply the concepts of groupby and merging extensively.**"
   ]
  },
  {
   "cell_type": "code",
   "execution_count": null,
   "metadata": {},
   "outputs": [],
   "source": []
  },
  {
   "cell_type": "markdown",
   "metadata": {},
   "source": [
    "#### 1. Import the necessary packages - 2.5 marks"
   ]
  },
  {
   "cell_type": "code",
   "execution_count": null,
   "metadata": {},
   "outputs": [],
   "source": [
    "#importing required packages\n",
    "\n",
    "import numpy as np  \n",
    "import pandas as pd\n",
    "import seaborn as sns\n",
    "import matplotlib.pyplot as plt\n",
    "import warnings\n",
    "warnings.filterwarnings('ignore')\n",
    "sns.set(color_codes=True) \n",
    "%matplotlib inline "
   ]
  },
  {
   "cell_type": "markdown",
   "metadata": {},
   "source": [
    "#### 2. Read the 3 datasets into dataframes - 2.5 marks"
   ]
  },
  {
   "cell_type": "code",
   "execution_count": null,
   "metadata": {
    "scrolled": true
   },
   "outputs": [],
   "source": [
    "#reading the data files\n",
    "\n",
    "Data_data = pd.read_csv('Data.csv') \n",
    "Data_item = pd.read_csv('item.csv')\n",
    "Data_user = pd.read_csv('user.csv')"
   ]
  },
  {
   "cell_type": "markdown",
   "metadata": {},
   "source": [
    "#### 3. Apply info, shape, describe, and find the number of missing values in the data - 5 marks"
   ]
  },
  {
   "cell_type": "code",
   "execution_count": null,
   "metadata": {},
   "outputs": [],
   "source": [
    "#applying head on Data.csv\n",
    "\n",
    "Data_data.head() "
   ]
  },
  {
   "cell_type": "code",
   "execution_count": null,
   "metadata": {},
   "outputs": [],
   "source": [
    "#applying head on item.csv\n",
    "\n",
    "Data_item.head()"
   ]
  },
  {
   "cell_type": "code",
   "execution_count": null,
   "metadata": {},
   "outputs": [],
   "source": [
    "#applying head on user.csv\n",
    "\n",
    "Data_user.head()"
   ]
  },
  {
   "cell_type": "code",
   "execution_count": null,
   "metadata": {},
   "outputs": [],
   "source": [
    "#applying shape on all data files and then printing the result\n",
    "\n",
    "shape_data= Data_data.shape \n",
    "shape_item= Data_item.shape\n",
    "shape_user= Data_user.shape\n",
    "\n",
    "print (shape_data)\n",
    "print (shape_item)\n",
    "print (shape_user)"
   ]
  },
  {
   "cell_type": "code",
   "execution_count": null,
   "metadata": {},
   "outputs": [],
   "source": [
    "#applying describe on Data.csv\n",
    "\n",
    "Data_data.describe()"
   ]
  },
  {
   "cell_type": "code",
   "execution_count": null,
   "metadata": {},
   "outputs": [],
   "source": [
    "#applying describe on item.csv\n",
    "\n",
    "Data_item.describe()"
   ]
  },
  {
   "cell_type": "code",
   "execution_count": null,
   "metadata": {},
   "outputs": [],
   "source": [
    "#applying describe on user.csv\n",
    "\n",
    "Data_user.describe()"
   ]
  },
  {
   "cell_type": "code",
   "execution_count": null,
   "metadata": {},
   "outputs": [],
   "source": [
    "#applying info on Data.csv\n",
    "\n",
    "Data_data.info()"
   ]
  },
  {
   "cell_type": "code",
   "execution_count": null,
   "metadata": {},
   "outputs": [],
   "source": [
    "#applying info on item.csv\n",
    "\n",
    "Data_item.info()"
   ]
  },
  {
   "cell_type": "code",
   "execution_count": null,
   "metadata": {},
   "outputs": [],
   "source": [
    "#applying info on user.csv\n",
    "\n",
    "Data_user.info()"
   ]
  },
  {
   "cell_type": "code",
   "execution_count": null,
   "metadata": {},
   "outputs": [],
   "source": [
    "#applying isnull().sum() on Data.csv to return number of missing values\n",
    "\n",
    "Data_data.isnull().sum()"
   ]
  },
  {
   "cell_type": "code",
   "execution_count": null,
   "metadata": {},
   "outputs": [],
   "source": [
    "#isnull().sum() on item.csv to return number of missing values\n",
    "\n",
    "Data_item.isnull().sum()"
   ]
  },
  {
   "cell_type": "code",
   "execution_count": null,
   "metadata": {},
   "outputs": [],
   "source": [
    "#applying isnull().sum() on Data.csv to return number of missing values\n",
    "\n",
    "Data_user.isnull().sum()"
   ]
  },
  {
   "cell_type": "markdown",
   "metadata": {},
   "source": [
    "#### 4. Find the number of movies per genre using the item data - 5 marks"
   ]
  },
  {
   "cell_type": "code",
   "execution_count": null,
   "metadata": {
    "scrolled": true
   },
   "outputs": [],
   "source": [
    "Data_item1= Data_item.drop(['movie id','movie title','release date'], axis=1) #drop columns with non integer values\n",
    "Data_item1.sum(axis=0) #return the number of movies per genre"
   ]
  },
  {
   "cell_type": "markdown",
   "metadata": {},
   "source": [
    "#### 5. Find the movies that have more than one genre - 2.5 marks"
   ]
  },
  {
   "cell_type": "code",
   "execution_count": null,
   "metadata": {},
   "outputs": [],
   "source": [
    "Data_item2= Data_item.drop(['movie id','release date'], axis=1) #drop columns \n",
    "Data_item2['GenreSum']= Data_item2.sum(axis=1) #create new column 'GenreSum' with summation of number of genre per movie\n",
    "#Data_item2"
   ]
  },
  {
   "cell_type": "code",
   "execution_count": null,
   "metadata": {},
   "outputs": [],
   "source": [
    "Data_item3 = Data_item2.drop(['unknown','Action','Adventure','Animation','Childrens','Comedy','Crime','Documentary','Drama','Fantasy','Drama','Film-Noir','Horror','Musical','Mystery','Romance','Sci-Fi','Thriller','War','Western'], axis=1)\n",
    "Data_item4 = Data_item3.loc[(Data_item2['GenreSum'] > 1)] #return rows of movie titles with more than 1 genre classification\n",
    "print(Data_item4)"
   ]
  },
  {
   "cell_type": "markdown",
   "metadata": {},
   "source": [
    "#### 6. Drop the movie where the genre is unknown - 2.5 marks"
   ]
  },
  {
   "cell_type": "code",
   "execution_count": null,
   "metadata": {},
   "outputs": [],
   "source": [
    "#Movie_Unknown= Data_item.loc[Data_item1['unknown'] ==1] To view row containing movie with unknown genre, unknown=1\n",
    "#print (Movie_Unknown)\n",
    "Data_item5= Data_item1[Data_item1.unknown !=1] #drop the row that contains 1 in the column 'unknown' because we have only one unknown movie as per answer of Question 4\n",
    "Data_item5.sum(axis=0) #Total movies per genre after removing the unknown movie entry, unknown=0"
   ]
  },
  {
   "cell_type": "markdown",
   "metadata": {},
   "source": [
    "### 7. Univariate plots of columns: 'rating', 'Age', 'release year', 'Gender' and 'Occupation' - 10 marks"
   ]
  },
  {
   "cell_type": "code",
   "execution_count": null,
   "metadata": {},
   "outputs": [],
   "source": [
    "#distribution plot for 'age'\n",
    "\n",
    "sns.distplot(Data_user['age']); "
   ]
  },
  {
   "cell_type": "code",
   "execution_count": null,
   "metadata": {},
   "outputs": [],
   "source": [
    "#count plot for 'gender'\n",
    "\n",
    "sns.countplot(Data_user['gender']);"
   ]
  },
  {
   "cell_type": "code",
   "execution_count": null,
   "metadata": {},
   "outputs": [],
   "source": [
    "#count plot for 'occupation'\n",
    "\n",
    "plt.figure(figsize=(30,8)) #modification of figure size for a better view of the plot\n",
    "sns.countplot(Data_user['occupation']);"
   ]
  },
  {
   "cell_type": "code",
   "execution_count": null,
   "metadata": {},
   "outputs": [],
   "source": [
    "#count plot for 'rating'\n",
    "\n",
    "sns.countplot(Data_data['rating']);"
   ]
  },
  {
   "cell_type": "code",
   "execution_count": null,
   "metadata": {},
   "outputs": [],
   "source": [
    "#plot for Year\n",
    "#new dataframe by spliting the release date\n",
    "\n",
    "Data_item6 = Data_item[\"release date\"].str.split(\"-\", n=2 ,expand=True) \n",
    "#Data_item6"
   ]
  },
  {
   "cell_type": "code",
   "execution_count": null,
   "metadata": {},
   "outputs": [],
   "source": [
    "#adding the third column from Data_item6 to Data_item with title 'Year'\n",
    "\n",
    "Data_item['Year']=Data_item6[2] "
   ]
  },
  {
   "cell_type": "code",
   "execution_count": null,
   "metadata": {},
   "outputs": [],
   "source": [
    " #distribution plot for 'Year'\n",
    "\n",
    "sns.distplot(Data_item['Year'], kde=False);"
   ]
  },
  {
   "cell_type": "markdown",
   "metadata": {},
   "source": [
    "### 8. Visualize how popularity of genres has changed over the years - 10 marks\n",
    "\n",
    "Note that you need to use the number of releases in a year as a parameter of popularity of a genre"
   ]
  },
  {
   "cell_type": "markdown",
   "metadata": {},
   "source": [
    "Hint \n",
    "\n",
    "1: you need to reach to a data frame where the release year is the index and the genre is the column names (one cell shows the number of release in a year in one genre) or vice versa.\n",
    "Once that is achieved, you can either use univariate plots or can use the heatmap to visualise all the changes over the years \n",
    "in one go. \n",
    "\n",
    "Hint 2: Use groupby on the relevant column and use sum() on the same to find out the nuumber of releases in a year/genre.  "
   ]
  },
  {
   "cell_type": "code",
   "execution_count": null,
   "metadata": {},
   "outputs": [],
   "source": [
    "#creating a datafrome with year as index and genre as columns\n",
    "\n",
    "Data_item7= Data_item.drop(['movie id','movie title','release date'], axis=1)\n",
    "YearGroup= Data_item7.groupby(['Year']).sum()\n",
    "YearGroup1= YearGroup.sort_index(axis=0, ascending=False)\n",
    "YearGroup1.head()"
   ]
  },
  {
   "cell_type": "code",
   "execution_count": null,
   "metadata": {},
   "outputs": [],
   "source": [
    "#heatmap\n",
    "\n",
    "plt.figure(figsize=(16,20)) #modification of figure size\n",
    "sns.heatmap(YearGroup1, annot=True, cmap=\"Blues\") "
   ]
  },
  {
   "cell_type": "markdown",
   "metadata": {},
   "source": [
    "### 9. Find the top 25 movies according to average ratings such that each movie has number of ratings more than 100 - 10 marks\n",
    "\n",
    "Hint : \n",
    "1. First find the movies that have more than 100 ratings(use merge, groupby and count). Extract the movie titles in a list.\n",
    "2. Find the average rating of all the movies and sort them in the descending order. You will have to use the .merge() function to reach to a data set through which you can get the names and the average rating.\n",
    "3. Use isin(list obtained from 1) to filter out the movies which have more than 100 ratings.\n",
    "\n",
    "Note: This question will need you to research about groupby and apply your findings. You can find more on groupby on https://realpython.com/pandas-groupby/."
   ]
  },
  {
   "cell_type": "code",
   "execution_count": null,
   "metadata": {},
   "outputs": [],
   "source": [
    "#preparing Data_data for merge by dropping unnecessary columns\n",
    "\n",
    "Data_data1= Data_data.drop(['timestamp','user id'], axis=1)\n",
    "Data_data1.head()"
   ]
  },
  {
   "cell_type": "code",
   "execution_count": null,
   "metadata": {},
   "outputs": [],
   "source": [
    "#preparing Data_item for merge by dropping unnecessary columns\n",
    "\n",
    "Data_item8= Data_item.drop(['Year','release date','unknown','Action','Adventure','Animation','Childrens','Comedy','Crime','Documentary','Drama','Fantasy','Drama','Film-Noir','Horror','Musical','Mystery','Romance','Sci-Fi','Thriller','War','Western'], axis=1)\n",
    "Data_item8.head()"
   ]
  },
  {
   "cell_type": "code",
   "execution_count": null,
   "metadata": {},
   "outputs": [],
   "source": [
    "#merging dataframes and then dropping columns not required\n",
    "\n",
    "itemdata= pd.merge(Data_item8, Data_data1, on='movie id')\n",
    "itemdata1= itemdata.drop(['movie id'], axis=1)\n",
    "itemdata1.head()"
   ]
  },
  {
   "cell_type": "code",
   "execution_count": null,
   "metadata": {},
   "outputs": [],
   "source": [
    "#applying groupby on 'movie title' and combining count\n",
    "\n",
    "itemdata2= itemdata1.groupby(['movie title']).count()\n",
    "itemdata2ri= itemdata2.reset_index() #reset index\n",
    "itemdata2ri #return number of rating per movie"
   ]
  },
  {
   "cell_type": "code",
   "execution_count": null,
   "metadata": {},
   "outputs": [],
   "source": [
    "#return movies with rating above 100\n",
    "\n",
    "itemdata3= itemdata2.loc[itemdata2['rating'] >100] \n",
    "itemdata3ri= itemdata3.reset_index()"
   ]
  },
  {
   "cell_type": "code",
   "execution_count": null,
   "metadata": {},
   "outputs": [],
   "source": [
    "#Movie_Title contains the list of movies with above 100 ratings\n",
    "\n",
    "Movie_Title= itemdata3ri['movie title'].to_list() \n",
    "print ('Movie Title List: ', Movie_Title)"
   ]
  },
  {
   "cell_type": "code",
   "execution_count": null,
   "metadata": {},
   "outputs": [],
   "source": [
    "#groupby 'movie title' and apply mean, returns mean rating per movie\n",
    "#return the mean rating with descending order\n",
    "\n",
    "itemdata4= itemdata1.groupby(['movie title']).mean() \n",
    "itemdata4ri= itemdata4.reset_index()\n",
    "itemdata5 = itemdata4ri.sort_values(by=['rating'], ascending=False) \n",
    "print (itemdata5)"
   ]
  },
  {
   "cell_type": "code",
   "execution_count": null,
   "metadata": {},
   "outputs": [],
   "source": [
    "#returns top 25 movies by mean rating\n",
    "\n",
    "Top25= itemdata5.iloc[0:24] \n",
    "print (Top25)"
   ]
  },
  {
   "cell_type": "markdown",
   "metadata": {},
   "source": [
    "### 10. See gender distribution across different genres check for the validity of the below statements - 10 marks\n",
    "\n",
    "* Men watch more drama than women\n",
    "* Women watch more Sci-Fi than men\n",
    "* Men watch more Romance than women\n"
   ]
  },
  {
   "cell_type": "markdown",
   "metadata": {},
   "source": [
    "1. There is no need to conduct statistical tests around this. Just compare the percentages and comment on the validity of the above statements.\n",
    "\n",
    "2. you might want ot use the .sum(), .div() function here.\n",
    "3. Use number of ratings to validate the numbers. For example, if out of 4000 ratings received by women, 3000 are for drama, we will assume that 75% of the women watch drama."
   ]
  },
  {
   "cell_type": "markdown",
   "metadata": {},
   "source": [
    "#### Conclusion:\n",
    "\n"
   ]
  },
  {
   "cell_type": "code",
   "execution_count": null,
   "metadata": {},
   "outputs": [],
   "source": [
    "#preparing dataframes for merge\n",
    "\n",
    "Newdata= Data_data.drop(['timestamp'], axis=1)\n",
    "Newitem= Data_item.drop(['movie title','Year','release date','unknown','Action','Adventure','Animation','Childrens','Comedy','Crime','Documentary','Fantasy','Film-Noir','Horror','Musical','Mystery','Thriller','War','Western'], axis=1)\n",
    "Newuser= Data_user.drop(['age','occupation','zip code'], axis=1)"
   ]
  },
  {
   "cell_type": "code",
   "execution_count": null,
   "metadata": {},
   "outputs": [],
   "source": [
    "#First merge\n",
    "\n",
    "itemdatam= pd.merge(Newdata, Newitem, on='movie id')\n",
    "print (itemdatam)"
   ]
  },
  {
   "cell_type": "code",
   "execution_count": null,
   "metadata": {},
   "outputs": [],
   "source": [
    "#second merge\n",
    "\n",
    "Gender= pd.merge(Newuser, itemdatam, on='user id')\n",
    "print (Gender)"
   ]
  },
  {
   "cell_type": "code",
   "execution_count": null,
   "metadata": {},
   "outputs": [],
   "source": [
    "#here we can get the sum of movies per genre per gender (number of ratings per genre)\n",
    "\n",
    "Gender1= Gender.groupby(['gender']).sum()\n",
    "Gender1ri= Gender1.reset_index()\n",
    "Gender1ri"
   ]
  },
  {
   "cell_type": "code",
   "execution_count": null,
   "metadata": {},
   "outputs": [],
   "source": [
    "#Total number of ratings by all users per gender\n",
    "\n",
    "Gender2= Gender.groupby(['gender']).count()\n",
    "Gender2ri= Gender2.reset_index()\n",
    "Gender2ri"
   ]
  },
  {
   "cell_type": "code",
   "execution_count": null,
   "metadata": {},
   "outputs": [],
   "source": [
    "M_drama= (28887/74253)*100 #percentage of men watching drama\n",
    "F_drama= (11008/25738)*100 #percentage of women watching drama\n",
    "\n",
    "print (M_drama)\n",
    "print (F_drama)"
   ]
  },
  {
   "cell_type": "code",
   "execution_count": null,
   "metadata": {},
   "outputs": [],
   "source": [
    "M_Rom= (13603/74253)*100 #percentage of men watching romance\n",
    "F_Rom= (5858/25738)*100  #percentage of women watching romance\n",
    "\n",
    "print (M_Rom)\n",
    "print (F_Rom)"
   ]
  },
  {
   "cell_type": "code",
   "execution_count": null,
   "metadata": {},
   "outputs": [],
   "source": [
    "M_SF= (10101/74253)*100 #percentage of men watching SciFi\n",
    "F_SF= (2629/25738)*100  #percentage of women watching SciFi\n",
    "\n",
    "print (M_SF)\n",
    "print (F_SF)"
   ]
  },
  {
   "cell_type": "code",
   "execution_count": null,
   "metadata": {},
   "outputs": [],
   "source": [
    "#Conclusion\n",
    "\n",
    "# Statement 1: False\n",
    "# Statement 2: False\n",
    "# Statement 3: False"
   ]
  }
 ],
 "metadata": {
  "kernelspec": {
   "display_name": "Python 3",
   "language": "python",
   "name": "python3"
  },
  "language_info": {
   "codemirror_mode": {
    "name": "ipython",
    "version": 3
   },
   "file_extension": ".py",
   "mimetype": "text/x-python",
   "name": "python",
   "nbconvert_exporter": "python",
   "pygments_lexer": "ipython3",
   "version": "3.7.6"
  }
 },
 "nbformat": 4,
 "nbformat_minor": 2
}
